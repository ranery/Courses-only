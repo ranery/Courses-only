{
 "cells": [
  {
   "cell_type": "code",
   "execution_count": null,
   "metadata": {
    "collapsed": true
   },
   "outputs": [],
   "source": [
    "import sys\n",
    "sys.path.append('C:\\\\Users\\dell-pc\\Desktop\\大四上\\Computer_Vision\\CNN')\n",
    "from data import *\n",
    "from network import three_layer_cnn"
   ]
  },
  {
   "cell_type": "code",
   "execution_count": 2,
   "metadata": {
    "collapsed": true
   },
   "outputs": [],
   "source": [
    "# data\n",
    "train_data, test_data = loaddata()"
   ]
  },
  {
   "cell_type": "code",
   "execution_count": 3,
   "metadata": {},
   "outputs": [
    {
     "name": "stdout",
     "output_type": "stream",
     "text": [
      "dict_keys(['images', 'labels'])\n",
      "Number of train items: 60000\n",
      "Number of test items: 10000\n",
      "Edge length of picture : 28.000000\n",
      "Total classes:  {0, 1, 2, 3, 4, 5, 6, 7, 8, 9}\n"
     ]
    }
   ],
   "source": [
    "import numpy as np\n",
    "print(train_data.keys())\n",
    "print(\"Number of train items: %d\" % len(train_data['images']))\n",
    "print(\"Number of test items: %d\" % len(test_data['labels']))\n",
    "print(\"Edge length of picture : %f\" % np.sqrt(len(train_data['images'][0])))\n",
    "Class = set(train_data['labels'])\n",
    "print(\"Total classes: \", Class)"
   ]
  },
  {
   "cell_type": "code",
   "execution_count": 4,
   "metadata": {},
   "outputs": [
    {
     "name": "stdout",
     "output_type": "stream",
     "text": [
      "(3, 1, 28, 28)\n"
     ]
    }
   ],
   "source": [
    "# reshape\n",
    "def imageC(data_list):\n",
    "    data = np.array(data_list).reshape(len(data_list), 1, 28, 28)\n",
    "    return data\n",
    "data = imageC(train_data['images'][0:3])\n",
    "print(np.shape(data))"
   ]
  },
  {
   "cell_type": "code",
   "execution_count": null,
   "metadata": {},
   "outputs": [
    {
     "name": "stdout",
     "output_type": "stream",
     "text": [
      "Begin training ...\n",
      "Epoch: 0; Item: 30; Loss: 283.548830; Train acc: 0.100000 \n",
      "Epoch: 0; Item: 3030; Loss: 94.935547; Train acc: 0.633333 \n",
      "Epoch: 0; Item: 6030; Loss: 23.488783; Train acc: 0.900000 \n"
     ]
    }
   ],
   "source": [
    "# train\n",
    "print('Begin training ...')\n",
    "cnn = three_layer_cnn()\n",
    "cnn.initial()\n",
    "epoch = 1\n",
    "batchSize = 30\n",
    "for i in range(epoch):\n",
    "    # for j in range(int(len(train_data['images']) / batchSize)):\n",
    "    for j in range(300):\n",
    "        data = imageC(train_data['images'][j*batchSize:(j+1)*batchSize])\n",
    "        label = np.array(train_data['labels'][j*batchSize:(j+1)*batchSize])\n",
    "        output = cnn.forward(data)\n",
    "        loss, pred = cnn.compute_loss(output, label)\n",
    "        if j % 100 == 0:\n",
    "            count = 0\n",
    "            for k in range(batchSize):\n",
    "                if pred[k] == label[k]:\n",
    "                    count += 1\n",
    "            train_acc = count / batchSize\n",
    "            print('Epoch: %d; Item: %d; Loss: %f; Train acc: %f ' % (i, (j + 1) * batchSize, loss, train_acc))\n",
    "        cnn.backward()\n"
   ]
  },
  {
   "cell_type": "code",
   "execution_count": 6,
   "metadata": {},
   "outputs": [
    {
     "name": "stdout",
     "output_type": "stream",
     "text": [
      "Begin testing ...\n"
     ]
    }
   ],
   "source": [
    "# test\n",
    "print('Begin testing ...')\n",
    "batchSize = 10\n",
    "test_pred = []\n",
    "for i in range(int(len(test_data['images']) / batchSize)):\n",
    "    output = cnn.inference(imageC(test_data['images'][i*batchSize:(i+1)*batchSize]))\n",
    "    label = np.array(test_data['labels'][i*batchSize:(i+1)*batchSize])\n",
    "    loss, pred = cnn.compute_loss(output, label)\n",
    "    test_pred.extend(pred)\n",
    "print('End testing!')"
   ]
  },
  {
   "cell_type": "code",
   "execution_count": 8,
   "metadata": {},
   "outputs": [
    {
     "name": "stdout",
     "output_type": "stream",
     "text": [
      "Accuracy for 3-layers convolutional neural networks: 0.335000\n"
     ]
    }
   ],
   "source": [
    "# accuracy\n",
    "count = 0\n",
    "for i in range(len(test_pred)):\n",
    "    if test_pred[i] == test_data['labels'][i]:\n",
    "        count += 1\n",
    "acc = count / len(test_pred)\n",
    "print('Accuracy for 3-layers convolutional neural networks: %f' % acc)"
   ]
  },
  {
   "cell_type": "code",
   "execution_count": null,
   "metadata": {
    "collapsed": true
   },
   "outputs": [],
   "source": []
  }
 ],
 "metadata": {
  "kernelspec": {
   "display_name": "Python 3",
   "language": "python",
   "name": "python3"
  },
  "language_info": {
   "codemirror_mode": {
    "name": "ipython",
    "version": 3
   },
   "file_extension": ".py",
   "mimetype": "text/x-python",
   "name": "python",
   "nbconvert_exporter": "python",
   "pygments_lexer": "ipython3",
   "version": "3.6.3"
  }
 },
 "nbformat": 4,
 "nbformat_minor": 1
}
